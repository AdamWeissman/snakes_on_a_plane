{
 "cells": [
  {
   "cell_type": "markdown",
   "metadata": {},
   "source": [
    "# S N A K E S - O N - A - P L A N E - \n",
    "(probably on United Domestic)\n",
    "## BACKGROUND:  \n",
    "### An airline has caved to peer pressure on social media to allow service reptiles on certain random domestic flights.  Other passengers that weren't aware of this policy are starting to ask for refunds and even threaten lawsuits.  Let's help the airline figure out how many snakes are just too many!\n",
    "\n",
    "--------------------------------------------------------------------------------------------------------------------\n",
    "\n",
    "# WHAT/WHY: Calculating Distance Lab and Nearest Neighbors Lab, coded in almost English.\n",
    "\n",
    "    The purpose of this notebook is to more intuitively understand the Calculating Distance Lab as well as Nearest Neighbors Lab with an example that is (hopefully) ridiculous enough to be memorable, and (hopefully) easy enough to serve as a memorable heurisitc for the future.  All the code is meant to be readable in plain English -- code that even a non-programmer could follow...  \n",
    "\n",
    "# Best Practices for Calculating Distance and Nearest Neighbors?\n",
    "    I've essentially copied the solutions code from the Learn.Co curriculum on GitHub and substituted the Snakes examples to make sure best practices are followed.  I HAVE changed a few things to try and get everything into a single program, but it should be apparent in the notes along the way.  \n",
    "    \n",
    "    I have the impression that substituting x and y seat coordinates for pick up and drop off latitude/longitudes (and comparing their distance to a passenger with a snake) is not exactly the same.  Perhaps a more comparable analogy would be comparing one passenger's distance to someone with a snake to another passenger -- but in order for that to work in this example, there'd probably need to be another dictionary item of whether or not one passenger complained and another didn't.  I had considered adding that to the dictionary keys, but I felt that falsifying the data conclusion (in an already false example) might just muddy the issue since the conclusion would be mostly random.\n",
    "\n",
    "# Final Word Before the Examples Begin...\n",
    "\n",
    "    Coordinates are not visually plotted.  Why?  When doing the labs I found it difficult to understand the code related to the problem solving aspect of the lab while simultaneously trying to follow the code necessary to create the interface.  Also, while creating this notebook, I used the Jupyter setup from Anaconda on my computer and didn't understand how to set up Plotly with the pip install etc.  Next time though...  "
   ]
  },
  {
   "cell_type": "markdown",
   "metadata": {},
   "source": [
    "# CALCULATING DISTANCE\n",
    "\n",
    "#### A manually typed dictionary to test the examples, includes passenger name, seat by column, seat by row, and whether or not the passenger has a 'service reptile' \n",
    "\n",
    "#### seat_by_column offers horizontal (x) coordinates\n",
    "#### seat_by_row offers vertical representation (y) coordinates.  \n",
    "\n",
    "#### NOTE: seats by column are typically noted by A, B, C, D, E, -- but for convenience of the example, seats by column are listed 0 - 4 (which is really 5 columns) ... ANOTHER NOTE -- \"Seat C\" (AKA \"Seat 2\") is never occupied... that's the middle aisle of this small plane.  For the sake of calculating though, space C (space 2) counts as a seat."
   ]
  },
  {
   "cell_type": "code",
   "execution_count": null,
   "metadata": {},
   "outputs": [],
   "source": [
    "people_on_a_plane_that_has_snakes = [\n",
    "    {'name':'Jason', 'seat_a_through_e_as_number': 0,'the_row_of_the_seat':0, 'service_reptile': False},\n",
    "    {'name':'Teddy', 'seat_a_through_e_as_number': 1,'the_row_of_the_seat':0, 'service_reptile': False}, \n",
    "    {'name':'Samuel L', 'seat_a_through_e_as_number': 3,'the_row_of_the_seat':0, 'service_reptile': False}, \n",
    "    {'name':'Ben', 'seat_a_through_e_as_number': 4,'the_row_of_the_seat':0, 'service_reptile': False}, \n",
    "    {'name':'Arianna', 'seat_a_through_e_as_number': 0,'the_row_of_the_seat':1, 'service_reptile': True},\n",
    "    {'name':'Britney', 'seat_a_through_e_as_number': 1,'the_row_of_the_seat':1, 'service_reptile': False}, \n",
    "    {'name':'Justin B', 'seat_a_through_e_as_number': 3,'the_row_of_the_seat':1, 'service_reptile': False}, \n",
    "    {'name':'Kim', 'seat_a_through_e_as_number': 4,'the_row_of_the_seat':1, 'service_reptile': False},\n",
    "    {'name':'Karen', 'seat_a_through_e_as_number': 0,'the_row_of_the_seat':2, 'service_reptile': False},\n",
    "    {'name':'Aaron', 'seat_a_through_e_as_number': 1,'the_row_of_the_seat':2, 'service_reptile': False}, \n",
    "    {'name':'Freddy', 'seat_a_through_e_as_number': 3,'the_row_of_the_seat':2, 'service_reptile': False}, \n",
    "    {'name':'Chucky', 'seat_a_through_e_as_number': 4,'the_row_of_the_seat':2, 'service_reptile': False}, \n",
    "    {'name':'Charlie', 'seat_a_through_e_as_number': 0,'the_row_of_the_seat':3, 'service_reptile': False},\n",
    "    {'name':'Jeremy', 'seat_a_through_e_as_number': 1,'the_row_of_the_seat':3, 'service_reptile': False}, \n",
    "    {'name':'Nas', 'seat_a_through_e_as_number': 3,'the_row_of_the_seat':3, 'service_reptile': False}, \n",
    "    {'name':'Elton', 'seat_a_through_e_as_number': 4,'the_row_of_the_seat':3, 'service_reptile': False},\n",
    "    {'name':'Jennifer', 'seat_a_through_e_as_number': 0,'the_row_of_the_seat':4, 'service_reptile': True},\n",
    "    {'name':'Darren', 'seat_a_through_e_as_number': 1,'the_row_of_the_seat':4, 'service_reptile': True}, \n",
    "    {'name':'Mrs. Wentworth', 'seat_a_through_e_as_number': 3,'the_row_of_the_seat':4, 'service_reptile': False}, \n",
    "    {'name':'Mr. Wentworth', 'seat_a_through_e_as_number': 4,'the_row_of_the_seat':4, 'service_reptile': False}, \n",
    "    {'name':'Alejandro', 'seat_a_through_e_as_number': 0,'the_row_of_the_seat':5, 'service_reptile': False},\n",
    "    {'name':'Lady G', 'seat_a_through_e_as_number': 1,'the_row_of_the_seat':5, 'service_reptile': True}, \n",
    "    {'name':'Prince', 'seat_a_through_e_as_number': 3,'the_row_of_the_seat':5, 'service_reptile': False}, \n",
    "    {'name':'Michael', 'seat_a_through_e_as_number': 4,'the_row_of_the_seat':5, 'service_reptile': False},\n",
    "    {'name':'Billy Kid', 'seat_a_through_e_as_number': 0,'the_row_of_the_seat':6, 'service_reptile': False},\n",
    "    {'name':'Preston', 'seat_a_through_e_as_number': 1,'the_row_of_the_seat':6, 'service_reptile': False}, \n",
    "    {'name':'Anna Conda', 'seat_a_through_e_as_number': 3,'the_row_of_the_seat':6, 'service_reptile': True}, \n",
    "    {'name':'Mr. Bay', 'seat_a_through_e_as_number': 4,'the_row_of_the_seat':6, 'service_reptile': False}, \n",
    "    {'name':'Dr. Doom', 'seat_a_through_e_as_number': 0,'the_row_of_the_seat':7, 'service_reptile': False},\n",
    "    {'name':'Peter', 'seat_a_through_e_as_number': 1,'the_row_of_the_seat':7, 'service_reptile': False}, \n",
    "    {'name':'Mary Jane', 'seat_a_through_e_as_number': 3,'the_row_of_the_seat':7, 'service_reptile': False}, \n",
    "    {'name':'Parker', 'seat_a_through_e_as_number': 4,'the_row_of_the_seat':7, 'service_reptile': False},\n",
    "    {'name':'Diane', 'seat_a_through_e_as_number': 0,'the_row_of_the_seat':8, 'service_reptile': False},\n",
    "    {'name':'Janice', 'seat_a_through_e_as_number': 1,'the_row_of_the_seat':8, 'service_reptile': False}, \n",
    "    {'name':'Ren', 'seat_a_through_e_as_number': 3,'the_row_of_the_seat':8, 'service_reptile': True}, \n",
    "    {'name':'Stimpy', 'seat_a_through_e_as_number': 4,'the_row_of_the_seat':8, 'service_reptile': True}, \n",
    "    {'name':'Homer', 'seat_a_through_e_as_number': 0,'the_row_of_the_seat':9, 'service_reptile': False},\n",
    "    {'name':'Bart', 'seat_a_through_e_as_number': 1,'the_row_of_the_seat':9, 'service_reptile': True}, \n",
    "    {'name':'Marge', 'seat_a_through_e_as_number': 3,'the_row_of_the_seat':9, 'service_reptile': False}, \n",
    "    {'name':'Lisa', 'seat_a_through_e_as_number': 4,'the_row_of_the_seat':9, 'service_reptile': False},\n",
    "    {'name':'George', 'seat_a_through_e_as_number': 0,'the_row_of_the_seat':10, 'service_reptile': False},\n",
    "    {'name':'Krusty', 'seat_a_through_e_as_number': 1,'the_row_of_the_seat':10, 'service_reptile': False}, \n",
    "    {'name':'Seinfeld', 'seat_a_through_e_as_number': 3,'the_row_of_the_seat':10, 'service_reptile': False}, \n",
    "    {'name':'Alexander', 'seat_a_through_e_as_number': 4,'the_row_of_the_seat':10, 'service_reptile': False}, \n",
    "    {'name':'Elaine', 'seat_a_through_e_as_number': 0,'the_row_of_the_seat':11, 'service_reptile': False},\n",
    "    {'name':'Kramer', 'seat_a_through_e_as_number': 1,'the_row_of_the_seat':11, 'service_reptile': True}, \n",
    "    {'name':'Monica', 'seat_a_through_e_as_number': 3,'the_row_of_the_seat':11, 'service_reptile': False}, \n",
    "    {'name':'Chandler Bing', 'seat_a_through_e_as_number': 4,'the_row_of_the_seat':11, 'service_reptile': False},\n",
    "    {'name':'Phoebe', 'seat_a_through_e_as_number': 0,'the_row_of_the_seat':12, 'service_reptile': False},\n",
    "    {'name':'Courtney', 'seat_a_through_e_as_number': 1,'the_row_of_the_seat':12, 'service_reptile': False}, \n",
    "    {'name':'Ariel', 'seat_a_through_e_as_number': 3,'the_row_of_the_seat':12, 'service_reptile': False}, \n",
    "    {'name':'Ursula', 'seat_a_through_e_as_number': 4,'the_row_of_the_seat':12, 'service_reptile': True}, \n",
    "    {'name':'Dr. Charming', 'seat_a_through_e_as_number': 0,'the_row_of_the_seat':13, 'service_reptile': True},\n",
    "    {'name':'Bruno', 'seat_a_through_e_as_number': 1,'the_row_of_the_seat':13, 'service_reptile': False}, \n",
    "    {'name':'Jupiter', 'seat_a_through_e_as_number': 3,'the_row_of_the_seat':13, 'service_reptile': False}, \n",
    "    {'name':'Mars', 'seat_a_through_e_as_number': 4,'the_row_of_the_seat':13, 'service_reptile': True},\n",
    "    {'name':'Neptune', 'seat_a_through_e_as_number': 0,'the_row_of_the_seat':14, 'service_reptile': False},\n",
    "    {'name':'Uranus', 'seat_a_through_e_as_number': 1,'the_row_of_the_seat':14, 'service_reptile': False}, \n",
    "    {'name':'Pluto', 'seat_a_through_e_as_number': 3,'the_row_of_the_seat':14, 'service_reptile': False}, \n",
    "    {'name':'Popeye', 'seat_a_through_e_as_number': 4,'the_row_of_the_seat':14, 'service_reptile': False}, \n",
    "    {'name':'Olive', 'seat_a_through_e_as_number': 0,'the_row_of_the_seat':15, 'service_reptile': False},\n",
    "    {'name':'Sakana', 'seat_a_through_e_as_number': 1,'the_row_of_the_seat':15, 'service_reptile': False}, \n",
    "    {'name':'Tuna', 'seat_a_through_e_as_number': 3,'the_row_of_the_seat':15, 'service_reptile': False}, \n",
    "    {'name':'Cobra Commander', 'seat_a_through_e_as_number': 4,'the_row_of_the_seat':15, 'service_reptile': False},\n",
    "    {'name':'Sardino', 'seat_a_through_e_as_number': 0,'the_row_of_the_seat':16, 'service_reptile': True},\n",
    "    {'name':'Thor', 'seat_a_through_e_as_number': 1,'the_row_of_the_seat':16, 'service_reptile': False}, \n",
    "    {'name':'Captain', 'seat_a_through_e_as_number': 3,'the_row_of_the_seat':16, 'service_reptile': False}, \n",
    "    {'name':'Mr. Silver', 'seat_a_through_e_as_number': 4,'the_row_of_the_seat':16, 'service_reptile': False}, \n",
    "    {'name':'Joe', 'seat_a_through_e_as_number': 0,'the_row_of_the_seat':17, 'service_reptile': False},\n",
    "    {'name':'Alfonse', 'seat_a_through_e_as_number': 1,'the_row_of_the_seat':17, 'service_reptile': False}, \n",
    "    {'name':'Ivan', 'seat_a_through_e_as_number': 3,'the_row_of_the_seat':17, 'service_reptile': False}, \n",
    "    {'name':'Jeremiah', 'seat_a_through_e_as_number': 4,'the_row_of_the_seat':17, 'service_reptile': True},\n",
    "    {'name':'Joel', 'seat_a_through_e_as_number': 0,'the_row_of_the_seat':18, 'service_reptile': False},\n",
    "    {'name':'David', 'seat_a_through_e_as_number': 1,'the_row_of_the_seat':18, 'service_reptile': True}, \n",
    "    {'name':'Conan', 'seat_a_through_e_as_number': 3,'the_row_of_the_seat':18, 'service_reptile': False}, \n",
    "    {'name':'Rathomon', 'seat_a_through_e_as_number': 4,'the_row_of_the_seat':18, 'service_reptile': False}, \n",
    "    {'name':'Denzel', 'seat_a_through_e_as_number': 0,'the_row_of_the_seat':19, 'service_reptile': False},\n",
    "    {'name':'Set, Brother of Osiris', 'seat_a_through_e_as_number': 1,'the_row_of_the_seat':19, 'service_reptile': False}, \n",
    "    {'name':'Washington', 'seat_a_through_e_as_number': 3,'the_row_of_the_seat':19, 'service_reptile': False}, \n",
    "    {'name':'Lincoln', 'seat_a_through_e_as_number': 4,'the_row_of_the_seat':19, 'service_reptile': False},\n",
    "    {'name':'Roosevelt', 'seat_a_through_e_as_number': 0,'the_row_of_the_seat':20, 'service_reptile': False},\n",
    "    {'name':'Carter', 'seat_a_through_e_as_number': 1,'the_row_of_the_seat':20, 'service_reptile': True}, \n",
    "    {'name':'Magnus', 'seat_a_through_e_as_number': 3,'the_row_of_the_seat':20, 'service_reptile': True}, \n",
    "    {'name':'Siobhan', 'seat_a_through_e_as_number': 4,'the_row_of_the_seat':20, 'service_reptile': False}, \n",
    "    {'name':'Dustin', 'seat_a_through_e_as_number': 0,'the_row_of_the_seat':21, 'service_reptile': False},\n",
    "    {'name':'Riley', 'seat_a_through_e_as_number': 1,'the_row_of_the_seat':21, 'service_reptile': False}, \n",
    "    {'name':'Rex', 'seat_a_through_e_as_number': 3,'the_row_of_the_seat':21, 'service_reptile': False}, \n",
    "    {'name':'Thulsa Doom', 'seat_a_through_e_as_number': 4,'the_row_of_the_seat':21, 'service_reptile': True}]"
   ]
  },
  {
   "cell_type": "code",
   "execution_count": null,
   "metadata": {
    "scrolled": true
   },
   "outputs": [],
   "source": [
    "# This is code to make a dictionary of each passenger\n",
    "\n",
    "cheap_flyer = {}\n",
    "for possible_snake_bite_victim in people_on_a_plane_that_has_snakes:\n",
    "    grab_the_index = people_on_a_plane_that_has_snakes.index(possible_snake_bite_victim)\n",
    "    grab_the_name = possible_snake_bite_victim['name']\n",
    "    cheap_flyer[grab_the_name] = people_on_a_plane_that_has_snakes[grab_the_index]"
   ]
  },
  {
   "cell_type": "markdown",
   "metadata": {},
   "source": [
    "### NOTE: in the above code we named the dictionary passenger.  When coding this the first time around, I originally called the dictionary name_and_index.  But later as typing (name_and_index['name']) over and over to pass as arguments, it seemed to make much more sense and enhance the readability by calling the dictionary cheap_flyer in the singular, because that's primary way it will be used.  I opted for cheap_flyer instead of passenger because other code uses the word passenger as a stand-in subsitute and too many 'passenger' variables seemed like it would make things confusing.  cheap_flyer seems easy to remember because well... you probably don't get stuck on a jet with service reptiles if you're paying top dollar. "
   ]
  },
  {
   "cell_type": "code",
   "execution_count": null,
   "metadata": {
    "scrolled": false
   },
   "outputs": [],
   "source": [
    "# This is code to SEE a list of the passengers... \n",
    "# if you don't want to clutter your screen can skip SHIFT+ENTER on this frame\n",
    "\n",
    "passengers = list(cheap_flyer.keys())\n",
    "print(passengers)"
   ]
  },
  {
   "cell_type": "code",
   "execution_count": null,
   "metadata": {},
   "outputs": [],
   "source": [
    "# the abs -- absolute number is used with return so we never end up outside of the plane...\n",
    "# NOTE ... when passing arguments, must type (name_and_index['name'], name_and_index['name'])\n",
    "            \n",
    "def seat_by_column(passenger, another_passenger):\n",
    "        return abs(passenger['seat_a_through_e_as_number'] - another_passenger['seat_a_through_e_as_number'])\n",
    "             \n",
    "def seat_by_row(passenger, another_passenger):\n",
    "        return abs(passenger['the_row_of_the_seat'] - another_passenger['the_row_of_the_seat'])"
   ]
  },
  {
   "cell_type": "code",
   "execution_count": null,
   "metadata": {},
   "outputs": [],
   "source": [
    "# this is to calculate the distance in seats between them... using pythagorean theorem which is:\n",
    "# (a ** 2) + (b ** 2) = c ** 2\n",
    "\n",
    "def distance_between_passenger_seats_squared(passenger, another_passenger):\n",
    "    return seat_by_row(passenger, another_passenger)**2 + seat_by_column(passenger, another_passenger)**2\n",
    "\n",
    "# Since you can't have a fraction of a seat... we return a rounded number for the square root of total_seats_apart\n",
    "\n",
    "import math\n",
    "\n",
    "def total_seats_apart(passenger, another_passenger):\n",
    "    return round(math.sqrt(distance_between_passenger_seats_squared(passenger, another_passenger)))"
   ]
  },
  {
   "cell_type": "code",
   "execution_count": null,
   "metadata": {},
   "outputs": [],
   "source": [
    "# This is to calculate general distances between seat neighbors, AND...\n",
    "# to return a new dictionary (new_d) item that tells you how many seats another_passenger is from passenger\n",
    "\n",
    "def distance_between_passengers_new_d(passenger, another_passenger):\n",
    "    distance_from_another_passenger = another_passenger.copy()\n",
    "    seats_apart = total_seats_apart(passenger, another_passenger)\n",
    "    distance_from_another_passenger['seats apart'] = seats_apart\n",
    "    return distance_from_another_passenger\n",
    "\n",
    "# test the code below\n",
    "# distance_between_passengers_new_d(cheap_flyer['Phoebe'], cheap_flyer['Popeye'])\n"
   ]
  },
  {
   "cell_type": "code",
   "execution_count": null,
   "metadata": {},
   "outputs": [],
   "source": [
    "# This will cycle through all the other passengers' in the name_and_index list...\n",
    "# it will make sure that the passenger isn't compared with itself, but to everyone else\n",
    "\n",
    "def distance_from_first_passenger_to_everyone_else(first_passenger, people_on_a_plane_that_has_snakes):\n",
    "    remaining_passengers = list(filter(lambda neighbor: neighbor != first_passenger, people_on_a_plane_that_has_snakes))\n",
    "    return list(map(lambda the_other_passenger: distance_between_passengers_new_d(first_passenger, the_other_passenger), remaining_passengers))"
   ]
  },
  {
   "cell_type": "code",
   "execution_count": null,
   "metadata": {},
   "outputs": [],
   "source": [
    "def nearest_neighbors(first_passenger, people_on_a_plane_that_has_snakes, number = None):\n",
    "    number = number or len(people_on_a_plane_that_has_snakes) - 1\n",
    "    neighbor_distances = distance_from_first_passenger_to_everyone_else(first_passenger, people_on_a_plane_that_has_snakes)\n",
    "    sorted_neighbors = sorted(neighbor_distances, key=lambda neighbor: neighbor['seats apart'])\n",
    "    return sorted_neighbors[:number]"
   ]
  },
  {
   "cell_type": "markdown",
   "metadata": {},
   "source": [
    "### PYTHON MAGIC ABOVE ^^^\n",
    "Did you notice that the 'number' argument passed in nearest_neighbors doesn't require any coding to make it iterate in its function?  It just does. "
   ]
  },
  {
   "cell_type": "markdown",
   "metadata": {},
   "source": [
    "# REMEMBER:\n",
    "\n",
    "#### This is the form you need to pass a name argument:\n",
    "    (cheap_flyer['name'], cheap_flyer['name'])\n",
    "\n",
    "#### These are all the relevant functions and variables, from most recent to oldest - building block code not included here:\n",
    "\n",
    "    nearest_neighbors(first_passenger, people_on_a_plane_with_snakes, number = None)\n",
    "    distance_from_first_passenger_to_everyone_else(first_passenger, people_on_a_plane_with_snakes)\n",
    "    distance_between_passengers_new_d(passenger, another_passenger) <--this returns a dictionary with 'seats apart'\n",
    "\n",
    "#### NOW... we have to add something new... not in original lab\n",
    "    In Snakes on a Plane, we're not just trying to figure out the distance from some passenger to some other passenger... but from 'some passenger' to 'A PASSENGER WITH A SERVICE REPITLE!!!!' ... so the next bit of code is to create a new filter that will return only those with reptiles."
   ]
  },
  {
   "cell_type": "code",
   "execution_count": null,
   "metadata": {},
   "outputs": [],
   "source": [
    "def nearest_neighbors_that_have_snakes(first_passenger, people_on_a_plane_that_has_snakes, number=None):\n",
    "    number = number or len(people_on_a_plane_that_has_snakes) - 1\n",
    "    everybody = nearest_neighbors(first_passenger, people_on_a_plane_that_has_snakes, number)\n",
    "    they_have_snakes = list(filter(lambda has_a_snake: has_a_snake['service_reptile'] == True, everybody))\n",
    "    return they_have_snakes"
   ]
  },
  {
   "cell_type": "markdown",
   "metadata": {},
   "source": [
    "# APPLIED NEAREST NEIGHBORS -- GETTING AN AVERAGE\n",
    "\n",
    "In order to help the airline figure out how many snakes are just too many, we probably need to figure out\n",
    "an:\n",
    "1. Average distance of snakes per passenger, or from any given point\n",
    "2. The average number of snakes on a plane\n",
    "3. The median distance from one passenger to another passenger with snake\n",
    "\n",
    "REMEMBER: This is just ONE flight and the purpose is to build a toolbox of code that we can use on later flights.  In order for this information to really be useful, we'd probably need to know:\n",
    "\n",
    "1. the average distance of snakes per passenger, or any give point (from hundreds of planes)\n",
    "2. the overall average number snakes on a plane (for hundreds of planes)\n",
    "3. the average median distance from passenger to another passenger with a snake (from hundreds of planes)\n",
    "\n",
    "\n",
    "## Now for some big picture stuff.  But you can skip reading it if you just want to see the code.\n",
    "\n",
    "With the code we're building here we'd be able to help the airline know how many snakes is too many, not just for this flight, but all their flights.  We could even plot a graph!  \n",
    "\n",
    "BY knowing the averages from many planes, the airline could compare the numbers to complaint data and lawsuit data to figure out: how many snakes are just too many.  \n",
    "\n",
    "With that information (how many snakes, and possibly what seats they're in), the airline could then come back to us to build more code for the booking side of their business that would sneakily (and probably illegally) prevent owners of service reptiles from booking certain seats -- or being more than a certain proportion to non-reptile owners.  For example: a fully booked plane would never allow more than X reptiles because the number of seats is fixed.  On the other hand, suppose it's flight with very low bookings.  Let's say 10 people.  The last thing you'd want is an unaccompanied minor flying to visit their grandparents on a plane with 9 snakes!  We could build something that would bump the kid onto a different non-reptile flight, or prevent the next several bookings from being made by people with service reptiles -- or prevent seats within a certain distance from being booked.  Comparing our data with complaint and lawsuit data... we'd probably even be able to figure out whether or not it's worse for a non-reptile owner to have a reptile owner sitting behind them, in front of them, or next to them."
   ]
  },
  {
   "cell_type": "markdown",
   "metadata": {},
   "source": [
    "# AVERAGE NUMBER OF SNAKES ON THIS PLANE"
   ]
  },
  {
   "cell_type": "code",
   "execution_count": null,
   "metadata": {},
   "outputs": [],
   "source": [
    "total_number_of_snakes_on_this_plane = len(list(filter(lambda has_a_snake: has_a_snake['service_reptile'] == True, people_on_a_plane_that_has_snakes)))\n",
    "everyone_else = len(people_on_a_plane_that_has_snakes) - total_number_of_snakes_on_this_plane\n",
    "print(\"the total number of 'service reptiles' on this plane is \" + str(total_number_of_snakes_on_this_plane))\n",
    "print(\"the total number of people that had no idea they'd be on a plane with snakes is \" + str(everyone_else))"
   ]
  },
  {
   "cell_type": "code",
   "execution_count": null,
   "metadata": {},
   "outputs": [],
   "source": [
    "average = (total_number_of_snakes_on_this_plane) / len(people_on_a_plane_that_has_snakes)\n",
    "print(\"the average number of snakes on this plane is \" + str(average))"
   ]
  },
  {
   "cell_type": "code",
   "execution_count": null,
   "metadata": {},
   "outputs": [],
   "source": [
    "percent_of_snakes_vs_prey = total_number_of_snakes_on_this_plane / everyone_else\n",
    "print(\"The percent of snakes vs prey is \" + str(percent_of_snakes_vs_prey) + \"...\\nThe above percent is different than the total average of snakes on the plane \\nwhich is \" + str(average))"
   ]
  },
  {
   "cell_type": "code",
   "execution_count": null,
   "metadata": {},
   "outputs": [],
   "source": [
    "# check out greatest common denominator to see what the ratio is\n",
    "help(math.gcd)"
   ]
  },
  {
   "cell_type": "code",
   "execution_count": null,
   "metadata": {},
   "outputs": [],
   "source": [
    "gcd_of_service_reptiles_and_surprised_passengers = math.gcd(total_number_of_snakes_on_this_plane, everyone_else)"
   ]
  },
  {
   "cell_type": "code",
   "execution_count": null,
   "metadata": {},
   "outputs": [],
   "source": [
    "print(gcd_of_service_reptiles_and_surprised_passengers)"
   ]
  },
  {
   "cell_type": "code",
   "execution_count": null,
   "metadata": {},
   "outputs": [],
   "source": [
    "ratio_of_snakes_to_prey = str((total_number_of_snakes_on_this_plane / 2)) + \" to \" + str((everyone_else / 2))\n",
    "print(ratio_of_snakes_to_prey)"
   ]
  },
  {
   "cell_type": "markdown",
   "metadata": {},
   "source": [
    "#### HMMM... 9 to 35 is awfully close to 10 to 40, which is roughly 1 to 4.  \n",
    "I'm personally not sure how to recacluate the math in order to reduce the ratio into something that would be more dramatic in a presentation to a client.  Though I can see offhand that 9 to 35 might as well be \"1 to 4\" or \"1 to 3.5\", I don't know how to calculate and code the effect.  Builtin round doesn't seem to work, nor math.ceil.     "
   ]
  },
  {
   "cell_type": "markdown",
   "metadata": {},
   "source": [
    "# AVERAGE DISTANCE OF SNAKES TO ANY GIVEN PASSENGER"
   ]
  },
  {
   "cell_type": "code",
   "execution_count": null,
   "metadata": {},
   "outputs": [],
   "source": [
    "# rewrote the code to get rid of the \"-1\" in order to iterate over EVERYBODY.\n",
    "\n",
    "def nearest_neighbors_that_have_snakes2(first_passenger, people_on_a_plane_that_has_snakes, number=None):\n",
    "    number = number or len(people_on_a_plane_that_has_snakes)\n",
    "    everybody = nearest_neighbors(first_passenger, people_on_a_plane_that_has_snakes, number)\n",
    "    they_have_snakes = list(filter(lambda has_a_snake: has_a_snake['service_reptile'] == True, everybody))\n",
    "    return they_have_snakes"
   ]
  },
  {
   "cell_type": "code",
   "execution_count": null,
   "metadata": {},
   "outputs": [],
   "source": [
    "collect_em_all = list(map(lambda this_passenger_to_everyone_else: \n",
    "                          nearest_neighbors_that_have_snakes2(this_passenger_to_everyone_else, people_on_a_plane_that_has_snakes, number=None),\n",
    "                          people_on_a_plane_that_has_snakes))"
   ]
  },
  {
   "cell_type": "code",
   "execution_count": null,
   "metadata": {},
   "outputs": [],
   "source": [
    "# this is a generic test to discover the structure necessary to create a loop to get names and seats apart...\n",
    "print(collect_em_all[3][1]['seats apart'])"
   ]
  },
  {
   "cell_type": "code",
   "execution_count": null,
   "metadata": {},
   "outputs": [],
   "source": [
    "# this seems to work... (Arianna the first person with a snake seems to appear every 18 times)\n",
    "\n",
    "for the_list_of_dictionarylists in collect_em_all:\n",
    "    for passenger_dictionary in the_list_of_dictionarylists:\n",
    "        print (passenger_dictionary['name'] + \" \" + (str(passenger_dictionary['seats apart'])))"
   ]
  },
  {
   "cell_type": "code",
   "execution_count": null,
   "metadata": {},
   "outputs": [],
   "source": [
    "# going to create a function in order to return actual values that we can sum\n",
    "\n",
    "def a_list_of_seats_apart_to_get_an_average_distance(collect_em_all):\n",
    "    add_em_up = []\n",
    "    for the_list_of_dictionarylists in collect_em_all:\n",
    "        for passenger_dictionary in the_list_of_dictionarylists:\n",
    "            add_em_up.append(passenger_dictionary['seats apart'])\n",
    "    return add_em_up"
   ]
  },
  {
   "cell_type": "code",
   "execution_count": null,
   "metadata": {},
   "outputs": [],
   "source": [
    "a_list_of_seats_apart_to_get_an_average_distance(collect_em_all)"
   ]
  },
  {
   "cell_type": "code",
   "execution_count": null,
   "metadata": {},
   "outputs": [],
   "source": [
    "len(a_list_of_seats_apart_to_get_an_average_distance(collect_em_all))"
   ]
  },
  {
   "cell_type": "code",
   "execution_count": null,
   "metadata": {},
   "outputs": [],
   "source": [
    "print(len(people_on_a_plane_that_has_snakes))\n",
    "print(total_number_of_snakes_on_this_plane)"
   ]
  },
  {
   "cell_type": "code",
   "execution_count": null,
   "metadata": {},
   "outputs": [],
   "source": [
    "87 * 18"
   ]
  },
  {
   "cell_type": "markdown",
   "metadata": {},
   "source": [
    "# WHOA!  HOLD UP... I thought there were only 87 seats.  Did we somehow miss a passenger?"
   ]
  },
  {
   "cell_type": "code",
   "execution_count": null,
   "metadata": {},
   "outputs": [],
   "source": [
    "print(people_on_a_plane_that_has_snakes[87])"
   ]
  },
  {
   "cell_type": "code",
   "execution_count": null,
   "metadata": {},
   "outputs": [],
   "source": [
    "# this throws an error, because the \"88th seat\" is at location 87 ... also 4 seats per row with 22 rows is 88.\n",
    "print(people_on_a_plane_that_has_snakes[88])"
   ]
  },
  {
   "cell_type": "code",
   "execution_count": null,
   "metadata": {},
   "outputs": [],
   "source": [
    "test_list = list(range(0,3))"
   ]
  },
  {
   "cell_type": "code",
   "execution_count": null,
   "metadata": {},
   "outputs": [],
   "source": [
    "len(test_list)"
   ]
  },
  {
   "cell_type": "code",
   "execution_count": null,
   "metadata": {},
   "outputs": [],
   "source": [
    "print(test_list)"
   ]
  },
  {
   "cell_type": "markdown",
   "metadata": {},
   "source": [
    "# the code between here and \"WHOA! HOLD UP\" is just a reminder that we start from zero... if the numbers are off by one and it seems confusing, it may just be counting with computers that we as people need to get used to.  WARNING: I'm not great with math, so I may actually be off by one."
   ]
  },
  {
   "cell_type": "code",
   "execution_count": null,
   "metadata": {},
   "outputs": [],
   "source": [
    "sum_of_all_seats_apart_from_snakes = sum(a_list_of_seats_apart_to_get_an_average_distance(collect_em_all))"
   ]
  },
  {
   "cell_type": "code",
   "execution_count": null,
   "metadata": {},
   "outputs": [],
   "source": [
    "print(sum_of_all_seats_apart_from_snakes)"
   ]
  },
  {
   "cell_type": "code",
   "execution_count": null,
   "metadata": {},
   "outputs": [],
   "source": [
    "average_distance_from_snakes = (sum_of_all_seats_apart_from_snakes) / len(a_list_of_seats_apart_to_get_an_average_distance(collect_em_all))"
   ]
  },
  {
   "cell_type": "code",
   "execution_count": null,
   "metadata": {},
   "outputs": [],
   "source": [
    "print(average_distance_from_snakes)"
   ]
  },
  {
   "cell_type": "code",
   "execution_count": null,
   "metadata": {},
   "outputs": [],
   "source": [
    "the_average_distance_from_snakes = print(\"The average distance from someone with a snake is between \" + str(math.floor(average_distance_from_snakes)) + \" and \" + str(round(average_distance_from_snakes)) + \" seats.\")"
   ]
  },
  {
   "cell_type": "markdown",
   "metadata": {},
   "source": [
    "# K Values or X Marks the Spot...?\n",
    "\n",
    "The nearest neighbors lab was SUPER difficult for me the first time around, but as I now review it to build out Snakes on a Plane, I think the main point of it is for learning how to segment out K values... in other words using the code below, we can identify possible 'hot spots' where people with snakes like to sit on the plane.  With this single example we can't learn much about the best K values to input... but if we had hundreds or thousands of flights to analyze, we could then figure out if there were any patterns based on K locations.  \n",
    "\n",
    "**Overfitting** would be every single row.  **Underfitting** would be \"THE ENTIRE PLANE\"... probably, K values might best be determined by seats at the very front of the plane with radius extending down, the exact middle of the plane with 'radius' going forwards and backward, and the very back with radius extending up.  \n",
    "\n",
    "So, for this example, we'll pull K values by the most North most point in the center aisle (2), the \"Center of the Equator\" and the most Southern point in the center aisle.  I selected 30 as the number of seats to iterate through, just to be sure I covered everybody.  Also, I wasn't too worried about overlapping seats since a snake towards the back of the front would equally be a 'threat' to someone towards the front of the middle..."
   ]
  },
  {
   "cell_type": "code",
   "execution_count": null,
   "metadata": {},
   "outputs": [],
   "source": [
    "front_of_the_plane_count_from_here = dict(seat_a_through_e_as_number=2, the_row_of_the_seat=0)\n",
    "middle_of_the_plane_count_from_here = dict(seat_a_through_e_as_number=2, the_row_of_the_seat=11)\n",
    "back_of_the_plane_count_from_here = dict(seat_a_through_e_as_number=2, the_row_of_the_seat=21)"
   ]
  },
  {
   "cell_type": "code",
   "execution_count": null,
   "metadata": {},
   "outputs": [],
   "source": [
    "snakes_in_front = nearest_neighbors_that_have_snakes2(front_of_the_plane_count_from_here, people_on_a_plane_that_has_snakes, number=30)"
   ]
  },
  {
   "cell_type": "code",
   "execution_count": null,
   "metadata": {},
   "outputs": [],
   "source": [
    "snakes_in_middle = nearest_neighbors_that_have_snakes2(middle_of_the_plane_count_from_here, people_on_a_plane_that_has_snakes, number=30)"
   ]
  },
  {
   "cell_type": "code",
   "execution_count": null,
   "metadata": {},
   "outputs": [],
   "source": [
    "snakes_in_back = nearest_neighbors_that_have_snakes2(back_of_the_plane_count_from_here, people_on_a_plane_that_has_snakes, number=30)"
   ]
  },
  {
   "cell_type": "code",
   "execution_count": null,
   "metadata": {},
   "outputs": [],
   "source": [
    "print(snakes_in_front)"
   ]
  },
  {
   "cell_type": "code",
   "execution_count": null,
   "metadata": {},
   "outputs": [],
   "source": [
    "print(snakes_in_middle)"
   ]
  },
  {
   "cell_type": "code",
   "execution_count": null,
   "metadata": {},
   "outputs": [],
   "source": [
    "print(snakes_in_back)"
   ]
  },
  {
   "cell_type": "code",
   "execution_count": null,
   "metadata": {},
   "outputs": [],
   "source": [
    "for x in snakes_in_front:\n",
    "    print(x['name'] + \" \" + str(x['seats apart']))"
   ]
  },
  {
   "cell_type": "code",
   "execution_count": null,
   "metadata": {},
   "outputs": [],
   "source": [
    "for x in snakes_in_middle:\n",
    "    print(x['name'] + \" \" + str(x['seats apart']))"
   ]
  },
  {
   "cell_type": "code",
   "execution_count": null,
   "metadata": {},
   "outputs": [],
   "source": [
    "for x in snakes_in_back:\n",
    "    print(x['name'] + \" \" + str(x['seats apart']))"
   ]
  },
  {
   "cell_type": "code",
   "execution_count": null,
   "metadata": {},
   "outputs": [],
   "source": [
    "import statistics"
   ]
  },
  {
   "cell_type": "code",
   "execution_count": null,
   "metadata": {},
   "outputs": [],
   "source": [
    "import statistics\n",
    "def median_distance(from_where):\n",
    "    nearest_distances = list(map(lambda passenger: passenger['seats apart'], from_where))\n",
    "    return statistics.median(nearest_distances)\n",
    "\n",
    "def mean_distance(from_where):\n",
    "    nearest_distances = list(map(lambda passenger: passenger['seats apart'], from_where))\n",
    "    return statistics.mean(nearest_distances)"
   ]
  },
  {
   "cell_type": "code",
   "execution_count": null,
   "metadata": {},
   "outputs": [],
   "source": [
    "print (\"the mean distance for snakes in the front is: \" + str(mean_distance(snakes_in_front)))\n",
    "print (\"the median distance for snakes in the front is: \" + str(median_distance(snakes_in_front)))"
   ]
  },
  {
   "cell_type": "code",
   "execution_count": null,
   "metadata": {},
   "outputs": [],
   "source": [
    "print (\"the mean distance for snakes in the middle is: \" + str(mean_distance(snakes_in_middle)))\n",
    "print (\"the median distance for snakes in the middle is: \" + str(median_distance(snakes_in_middle)))"
   ]
  },
  {
   "cell_type": "code",
   "execution_count": null,
   "metadata": {},
   "outputs": [],
   "source": [
    "print (\"the mean distance for snakes in the back is: \" + str(mean_distance(snakes_in_back)))\n",
    "print (\"the median distance for snakes in the back is: \" + str(median_distance(snakes_in_back)))"
   ]
  },
  {
   "cell_type": "markdown",
   "metadata": {},
   "source": [
    "# So, if you wanted to pick \"K\" values on the fly -- we could do this \"choose your seat and how many to search\".\n",
    "# Also, heads up... I'm not 100% certain that I'm defining K values correctly.  If I'm not, please let me know!"
   ]
  },
  {
   "cell_type": "code",
   "execution_count": null,
   "metadata": {},
   "outputs": [],
   "source": [
    "def choose_your_seat_and_how_many_to_search(seat=0, row=0, search_this_many_seats=0):\n",
    "    count_from_here = dict(seat_a_through_e_as_number=seat, the_row_of_the_seat=row)\n",
    "    this_information = nearest_neighbors_that_have_snakes2(count_from_here, people_on_a_plane_that_has_snakes, search_this_many_seats)\n",
    "    return(this_information)"
   ]
  },
  {
   "cell_type": "code",
   "execution_count": null,
   "metadata": {
    "scrolled": true
   },
   "outputs": [],
   "source": [
    "# this is just sample code in action\n",
    "\n",
    "choose_your_seat_and_how_many_to_search(2, 15, 20)"
   ]
  },
  {
   "cell_type": "code",
   "execution_count": null,
   "metadata": {},
   "outputs": [],
   "source": []
  },
  {
   "cell_type": "code",
   "execution_count": null,
   "metadata": {},
   "outputs": [],
   "source": []
  }
 ],
 "metadata": {
  "kernelspec": {
   "display_name": "Python 3",
   "language": "python",
   "name": "python3"
  },
  "language_info": {
   "codemirror_mode": {
    "name": "ipython",
    "version": 3
   },
   "file_extension": ".py",
   "mimetype": "text/x-python",
   "name": "python",
   "nbconvert_exporter": "python",
   "pygments_lexer": "ipython3",
   "version": "3.7.1"
  }
 },
 "nbformat": 4,
 "nbformat_minor": 2
}
